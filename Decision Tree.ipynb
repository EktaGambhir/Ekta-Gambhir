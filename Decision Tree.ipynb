{
 "cells": [
  {
   "cell_type": "code",
   "execution_count": 74,
   "metadata": {},
   "outputs": [],
   "source": [
    "import numpy as np\n",
    "import pandas as pd\n"
   ]
  },
  {
   "cell_type": "code",
   "execution_count": 75,
   "metadata": {},
   "outputs": [],
   "source": [
    "data = pd.read_csv(\"titanic.csv\")"
   ]
  },
  {
   "cell_type": "code",
   "execution_count": 76,
   "metadata": {},
   "outputs": [
    {
     "name": "stdout",
     "output_type": "stream",
     "text": [
      "   PassengerId  Survived  Pclass  \\\n",
      "0            1         0       3   \n",
      "1            2         1       1   \n",
      "2            3         1       3   \n",
      "3            4         1       1   \n",
      "4            5         0       3   \n",
      "\n",
      "                                                Name     Sex   Age  SibSp  \\\n",
      "0                            Braund, Mr. Owen Harris    male  22.0      1   \n",
      "1  Cumings, Mrs. John Bradley (Florence Briggs Th...  female  38.0      1   \n",
      "2                             Heikkinen, Miss. Laina  female  26.0      0   \n",
      "3       Futrelle, Mrs. Jacques Heath (Lily May Peel)  female  35.0      1   \n",
      "4                           Allen, Mr. William Henry    male  35.0      0   \n",
      "\n",
      "   Parch            Ticket     Fare Cabin Embarked  \n",
      "0      0         A/5 21171   7.2500   NaN        S  \n",
      "1      0          PC 17599  71.2833   C85        C  \n",
      "2      0  STON/O2. 3101282   7.9250   NaN        S  \n",
      "3      0            113803  53.1000  C123        S  \n",
      "4      0            373450   8.0500   NaN        S  \n"
     ]
    }
   ],
   "source": [
    "print(data.head())"
   ]
  },
  {
   "cell_type": "code",
   "execution_count": 77,
   "metadata": {},
   "outputs": [
    {
     "name": "stdout",
     "output_type": "stream",
     "text": [
      "<class 'pandas.core.frame.DataFrame'>\n",
      "RangeIndex: 891 entries, 0 to 890\n",
      "Data columns (total 7 columns):\n",
      "Survived    891 non-null int64\n",
      "Pclass      891 non-null int64\n",
      "Sex         891 non-null int32\n",
      "Age         891 non-null float64\n",
      "SibSp       891 non-null int64\n",
      "Parch       891 non-null int64\n",
      "Fare        891 non-null float64\n",
      "dtypes: float64(2), int32(1), int64(4)\n",
      "memory usage: 45.3 KB\n"
     ]
    }
   ],
   "source": [
    "data_clean.info()"
   ]
  },
  {
   "cell_type": "code",
   "execution_count": 78,
   "metadata": {},
   "outputs": [],
   "source": [
    "columns_to_drop = [\"PassengerId\",\"Name\",\"Ticket\",\"Cabin\",\"Embarked\"]\n",
    "data_clean = data.drop(columns_to_drop,axis=1)"
   ]
  },
  {
   "cell_type": "code",
   "execution_count": 79,
   "metadata": {},
   "outputs": [
    {
     "data": {
      "text/html": [
       "<div>\n",
       "<style scoped>\n",
       "    .dataframe tbody tr th:only-of-type {\n",
       "        vertical-align: middle;\n",
       "    }\n",
       "\n",
       "    .dataframe tbody tr th {\n",
       "        vertical-align: top;\n",
       "    }\n",
       "\n",
       "    .dataframe thead th {\n",
       "        text-align: right;\n",
       "    }\n",
       "</style>\n",
       "<table border=\"1\" class=\"dataframe\">\n",
       "  <thead>\n",
       "    <tr style=\"text-align: right;\">\n",
       "      <th></th>\n",
       "      <th>Survived</th>\n",
       "      <th>Pclass</th>\n",
       "      <th>Sex</th>\n",
       "      <th>Age</th>\n",
       "      <th>SibSp</th>\n",
       "      <th>Parch</th>\n",
       "      <th>Fare</th>\n",
       "    </tr>\n",
       "  </thead>\n",
       "  <tbody>\n",
       "    <tr>\n",
       "      <th>0</th>\n",
       "      <td>0</td>\n",
       "      <td>3</td>\n",
       "      <td>male</td>\n",
       "      <td>22.0</td>\n",
       "      <td>1</td>\n",
       "      <td>0</td>\n",
       "      <td>7.2500</td>\n",
       "    </tr>\n",
       "    <tr>\n",
       "      <th>1</th>\n",
       "      <td>1</td>\n",
       "      <td>1</td>\n",
       "      <td>female</td>\n",
       "      <td>38.0</td>\n",
       "      <td>1</td>\n",
       "      <td>0</td>\n",
       "      <td>71.2833</td>\n",
       "    </tr>\n",
       "    <tr>\n",
       "      <th>2</th>\n",
       "      <td>1</td>\n",
       "      <td>3</td>\n",
       "      <td>female</td>\n",
       "      <td>26.0</td>\n",
       "      <td>0</td>\n",
       "      <td>0</td>\n",
       "      <td>7.9250</td>\n",
       "    </tr>\n",
       "    <tr>\n",
       "      <th>3</th>\n",
       "      <td>1</td>\n",
       "      <td>1</td>\n",
       "      <td>female</td>\n",
       "      <td>35.0</td>\n",
       "      <td>1</td>\n",
       "      <td>0</td>\n",
       "      <td>53.1000</td>\n",
       "    </tr>\n",
       "    <tr>\n",
       "      <th>4</th>\n",
       "      <td>0</td>\n",
       "      <td>3</td>\n",
       "      <td>male</td>\n",
       "      <td>35.0</td>\n",
       "      <td>0</td>\n",
       "      <td>0</td>\n",
       "      <td>8.0500</td>\n",
       "    </tr>\n",
       "  </tbody>\n",
       "</table>\n",
       "</div>"
      ],
      "text/plain": [
       "   Survived  Pclass     Sex   Age  SibSp  Parch     Fare\n",
       "0         0       3    male  22.0      1      0   7.2500\n",
       "1         1       1  female  38.0      1      0  71.2833\n",
       "2         1       3  female  26.0      0      0   7.9250\n",
       "3         1       1  female  35.0      1      0  53.1000\n",
       "4         0       3    male  35.0      0      0   8.0500"
      ]
     },
     "execution_count": 79,
     "metadata": {},
     "output_type": "execute_result"
    }
   ],
   "source": [
    "data_clean.head()"
   ]
  },
  {
   "cell_type": "code",
   "execution_count": 80,
   "metadata": {},
   "outputs": [],
   "source": [
    "from sklearn.preprocessing import LabelEncoder\n",
    "\n",
    "le = LabelEncoder()\n",
    "data_clean[\"Sex\"] = le.fit_transform(data_clean[\"Sex\"])"
   ]
  },
  {
   "cell_type": "code",
   "execution_count": 81,
   "metadata": {},
   "outputs": [
    {
     "name": "stdout",
     "output_type": "stream",
     "text": [
      "   Survived  Pclass  Sex   Age  SibSp  Parch     Fare\n",
      "0         0       3    1  22.0      1      0   7.2500\n",
      "1         1       1    0  38.0      1      0  71.2833\n",
      "2         1       3    0  26.0      0      0   7.9250\n",
      "3         1       1    0  35.0      1      0  53.1000\n",
      "4         0       3    1  35.0      0      0   8.0500\n"
     ]
    }
   ],
   "source": [
    "print(data_clean.head())"
   ]
  },
  {
   "cell_type": "code",
   "execution_count": 82,
   "metadata": {},
   "outputs": [
    {
     "name": "stdout",
     "output_type": "stream",
     "text": [
      "<class 'pandas.core.frame.DataFrame'>\n",
      "RangeIndex: 891 entries, 0 to 890\n",
      "Data columns (total 7 columns):\n",
      "Survived    891 non-null int64\n",
      "Pclass      891 non-null int64\n",
      "Sex         891 non-null int32\n",
      "Age         714 non-null float64\n",
      "SibSp       891 non-null int64\n",
      "Parch       891 non-null int64\n",
      "Fare        891 non-null float64\n",
      "dtypes: float64(2), int32(1), int64(4)\n",
      "memory usage: 45.3 KB\n"
     ]
    }
   ],
   "source": [
    "data_clean.info()"
   ]
  },
  {
   "cell_type": "code",
   "execution_count": 83,
   "metadata": {},
   "outputs": [],
   "source": [
    "data_clean = data_clean.fillna(data_clean[\"Age\"].mean())\n"
   ]
  },
  {
   "cell_type": "code",
   "execution_count": 84,
   "metadata": {},
   "outputs": [
    {
     "name": "stdout",
     "output_type": "stream",
     "text": [
      "<class 'pandas.core.frame.DataFrame'>\n",
      "RangeIndex: 891 entries, 0 to 890\n",
      "Data columns (total 7 columns):\n",
      "Survived    891 non-null int64\n",
      "Pclass      891 non-null int64\n",
      "Sex         891 non-null int32\n",
      "Age         891 non-null float64\n",
      "SibSp       891 non-null int64\n",
      "Parch       891 non-null int64\n",
      "Fare        891 non-null float64\n",
      "dtypes: float64(2), int32(1), int64(4)\n",
      "memory usage: 45.3 KB\n",
      "None\n"
     ]
    }
   ],
   "source": [
    "print(data_clean.info())"
   ]
  },
  {
   "cell_type": "code",
   "execution_count": 85,
   "metadata": {},
   "outputs": [
    {
     "data": {
      "text/plain": [
       "Survived     1.000\n",
       "Pclass       3.000\n",
       "Sex          0.000\n",
       "Age         26.000\n",
       "SibSp        0.000\n",
       "Parch        0.000\n",
       "Fare         7.925\n",
       "Name: 2, dtype: float64"
      ]
     },
     "execution_count": 85,
     "metadata": {},
     "output_type": "execute_result"
    }
   ],
   "source": [
    "data_clean.loc[2]"
   ]
  },
  {
   "cell_type": "code",
   "execution_count": 86,
   "metadata": {},
   "outputs": [
    {
     "name": "stdout",
     "output_type": "stream",
     "text": [
      "(891, 6) (891, 1)\n"
     ]
    }
   ],
   "source": [
    "input_cols = [\"Pclass\",\"Sex\",\"Age\",\"SibSp\",\"Parch\",\"Fare\"]\n",
    "output_cols = [\"Survived\"]\n",
    "\n",
    "x = data_clean[input_cols]\n",
    "y = data_clean[output_cols]\n",
    "\n",
    "print(x.shape,y.shape)"
   ]
  },
  {
   "cell_type": "code",
   "execution_count": 121,
   "metadata": {},
   "outputs": [],
   "source": [
    "#define entrpy and info gain\n",
    "\n",
    "def entropy(col):\n",
    "    ent=0.0\n",
    "    counts = np.unique(col,return_counts =True)\n",
    "    N = float(col.shape[0])\n",
    "    #print(counts)\n",
    "    \n",
    "    for ix in counts[1]:\n",
    "        p = ix/N\n",
    "        ent += (-1*p*np.log2(p))\n",
    "    return ent\n",
    "    "
   ]
  },
  {
   "cell_type": "code",
   "execution_count": 122,
   "metadata": {},
   "outputs": [
    {
     "data": {
      "text/plain": [
       "1.0"
      ]
     },
     "execution_count": 122,
     "metadata": {},
     "output_type": "execute_result"
    }
   ],
   "source": [
    "arr = np.array([1,1,1,0,0,0])\n",
    "entropy(arr)\n"
   ]
  },
  {
   "cell_type": "code",
   "execution_count": 123,
   "metadata": {},
   "outputs": [],
   "source": [
    "def divide_data(x_data,fkey,fval):\n",
    "    x_right = pd.DataFrame([],columns = x_data.columns)\n",
    "    x_left = pd.DataFrame([],columns = x_data.columns)\n",
    "    \n",
    "    for ix in range(x_data.shape[0]):\n",
    "        val = x_data[fkey].loc[ix]\n",
    "        \n",
    "        if val > fval:\n",
    "            x_right =  x_right.append(x_data.loc[ix])\n",
    "        else:\n",
    "            x_left = x_left.append(x_data.loc[ix])\n",
    "            \n",
    "    return x_left,x_right\n",
    "    \n",
    "        \n",
    "        "
   ]
  },
  {
   "cell_type": "code",
   "execution_count": 124,
   "metadata": {},
   "outputs": [],
   "source": [
    "#left,right = divide_data(data_clean[:10],'Sex',0.5)\n",
    "#print(left)\n",
    "#print(right)"
   ]
  },
  {
   "cell_type": "code",
   "execution_count": 125,
   "metadata": {},
   "outputs": [],
   "source": [
    "def information_gain(x_data,fkey,fval):\n",
    "    left,right = divide_data(x_data,fkey,fval)\n",
    "   # % of examples on left and right \n",
    "    l = float(left.shape[0])/x.shape[0]\n",
    "    r = float(right.shape[0])/x.shape[0]\n",
    "\n",
    "# all examples at one side.. No further breaking of tree \n",
    "    if left.shape[0]==0 or right.shape[0]==0:\n",
    "        return -100000  \n",
    "#min. information gain\n",
    "\n",
    "    info_gain = entropy(x_data.Survived)-(l*entropy(left.Survived)+r*entropy(right.Survived))\n",
    "    return info_gain\n",
    "    \n",
    "    "
   ]
  },
  {
   "cell_type": "code",
   "execution_count": 126,
   "metadata": {},
   "outputs": [
    {
     "name": "stdout",
     "output_type": "stream",
     "text": [
      "Pclass\n",
      "0.07579362743608165\n",
      "Sex\n",
      "0.2176601066606142\n",
      "Age\n",
      "0.0008836151229467681\n",
      "SibSp\n",
      "0.009584541813400071\n",
      "Parch\n",
      "0.015380754493137694\n",
      "Fare\n",
      "0.042140692838995464\n"
     ]
    }
   ],
   "source": [
    "#test our function\n",
    "for fx in x.columns:\n",
    "    print(fx)\n",
    "    print(information_gain(data_clean,fx,data_clean[fx].mean()))\n"
   ]
  },
  {
   "cell_type": "code",
   "execution_count": 136,
   "metadata": {},
   "outputs": [],
   "source": [
    "#building classifier\n",
    "class DecisionTree:\n",
    "    #constructor\n",
    "    def __init__(self,depth=0,max_depth=5):\n",
    "        self.left = None\n",
    "        self.right =None\n",
    "        self.fkey = None\n",
    "        self.fval = None\n",
    "        self.max_depth = max_depth\n",
    "        self.depth =depth\n",
    "        self.target = None\n",
    "        \n",
    "    def train(self,X_train):\n",
    "        features =['Pclass','Sex','Age','SibSp','Parch','Fare']\n",
    "        info_gains = []\n",
    "        \n",
    "        for ix in feature:\n",
    "            i_gain = information_gain(X_train,ix,X_train[ix].mean())\n",
    "            info_gains.append(i_gain)\n",
    "            \n",
    "        self.fkey = features[np.argmax(info_gains)]\n",
    "        self.fval = X_train[self.fkey].mean() \n",
    "        print(\"Making tree feature is \",self.fkey)\n",
    "        \n",
    "        # Split the data \n",
    "        \n",
    "        data_left,data_right = divide_data(X_train,self.fkey,self.fval)\n",
    "        data_left = data_left.reset_index(drop=True)\n",
    "        data_right = data_right.reset_index(drop=True)\n",
    "        \n",
    "        #Truely a left node\n",
    "        \n",
    "        if data_left.shape == 0 or data_right.shape == 0:\n",
    "            if X_train.Survived.mean() >=0.5:\n",
    "                self.target =\"Survive\"\n",
    "            else:\n",
    "                self.target =\"Dead\"\n",
    "            return \n",
    "        \n",
    "        #stop early when depth>=maxdepth\n",
    "        \n",
    "        if (self.depth>=self.max_depth):\n",
    "            if X_train.Survived.mean() >=0.5:\n",
    "                self.target =\"Survive\"\n",
    "            else:\n",
    "                self.target =\"Dead\"\n",
    "            return \n",
    "        \n",
    "        #recursive case\n",
    "        \n",
    "        self.left = DecisionTree(depth=self.depth+1,max_depth=5)\n",
    "        self.left.train(data_left)\n",
    "        \n",
    "        self.right = DecisionTree(depth=self.depth+1,max_depth=5)\n",
    "        self.right.train(data_right)\n",
    "        \n",
    "        #you can set the target at every node\n",
    "        if X_train.Survived.mean() >= 0.5:\n",
    "                self.target =\"Survive\"\n",
    "        \n",
    "        else:\n",
    "                self.target =\"Dead\"\n",
    "        return \n",
    "    \n",
    "    \n",
    "    def Predict(self,test):\n",
    "        if test[self.fkey]>self.fval:\n",
    "            #go to right\n",
    "            if self.right is None:\n",
    "                return self.target\n",
    "            return self.right.Predict(test)\n",
    "        else:\n",
    "            if self.left is None:\n",
    "                return self.target\n",
    "            return self.left.Predict(test)\n",
    "        \n",
    "\n",
    "        \n",
    "        \n",
    "        \n",
    "        \n",
    "            \n",
    "            \n",
    "        \n",
    "    "
   ]
  },
  {
   "cell_type": "markdown",
   "metadata": {},
   "source": [
    "###Train-test set split"
   ]
  },
  {
   "cell_type": "code",
   "execution_count": 167,
   "metadata": {},
   "outputs": [],
   "source": [
    "split =int(0.7*data_clean.shape[0])\n",
    "train_data = data_clean[:split]\n",
    "test_data = data_clean[split:]\n",
    "test_data = test_data.reset_index(drop=True)\n"
   ]
  },
  {
   "cell_type": "code",
   "execution_count": 168,
   "metadata": {},
   "outputs": [
    {
     "name": "stdout",
     "output_type": "stream",
     "text": [
      "(268, 7) (623, 7)\n"
     ]
    }
   ],
   "source": [
    "print(test_data.shape,train_data.shape)"
   ]
  },
  {
   "cell_type": "code",
   "execution_count": 169,
   "metadata": {},
   "outputs": [
    {
     "name": "stdout",
     "output_type": "stream",
     "text": [
      "Making tree feature is  Sex\n",
      "Making tree feature is  Pclass\n",
      "Making tree feature is  Age\n",
      "Making tree feature is  SibSp\n",
      "Making tree feature is  Pclass\n",
      "Making tree feature is  Age\n",
      "Making tree feature is  Age\n",
      "Making tree feature is  SibSp\n",
      "Making tree feature is  Parch\n",
      "Making tree feature is  Pclass\n",
      "Making tree feature is  SibSp\n",
      "Making tree feature is  Fare\n",
      "Making tree feature is  Parch\n",
      "Making tree feature is  Age\n",
      "Making tree feature is  Pclass\n",
      "Making tree feature is  Age\n",
      "Making tree feature is  Age\n",
      "Making tree feature is  Parch\n",
      "Making tree feature is  SibSp\n",
      "Making tree feature is  Fare\n",
      "Making tree feature is  Age\n",
      "Making tree feature is  Age\n",
      "Making tree feature is  Fare\n",
      "Making tree feature is  Age\n",
      "Making tree feature is  Age\n",
      "Making tree feature is  Fare\n",
      "Making tree feature is  Age\n",
      "Making tree feature is  Parch\n",
      "Making tree feature is  Fare\n",
      "Making tree feature is  Fare\n",
      "Making tree feature is  Fare\n",
      "Making tree feature is  Age\n",
      "Making tree feature is  Fare\n",
      "Making tree feature is  Parch\n",
      "Making tree feature is  Fare\n",
      "Making tree feature is  Age\n",
      "Making tree feature is  Age\n",
      "Making tree feature is  Fare\n",
      "Making tree feature is  Fare\n",
      "Making tree feature is  SibSp\n",
      "Making tree feature is  Fare\n",
      "Making tree feature is  Age\n",
      "Making tree feature is  Fare\n",
      "Making tree feature is  Pclass\n",
      "Making tree feature is  SibSp\n",
      "Making tree feature is  Age\n",
      "Making tree feature is  Age\n",
      "Making tree feature is  Age\n",
      "Making tree feature is  Pclass\n",
      "Making tree feature is  Age\n",
      "Making tree feature is  SibSp\n",
      "Making tree feature is  Fare\n",
      "Making tree feature is  SibSp\n",
      "Making tree feature is  Age\n",
      "Making tree feature is  Parch\n",
      "Making tree feature is  SibSp\n",
      "Making tree feature is  SibSp\n",
      "Making tree feature is  Age\n",
      "Making tree feature is  Age\n",
      "Making tree feature is  Age\n",
      "Making tree feature is  Parch\n",
      "Making tree feature is  Age\n",
      "Making tree feature is  Age\n"
     ]
    }
   ],
   "source": [
    "dt = DecisionTree()\n",
    "dt.train(train_data)"
   ]
  },
  {
   "cell_type": "code",
   "execution_count": 170,
   "metadata": {},
   "outputs": [
    {
     "name": "stdout",
     "output_type": "stream",
     "text": [
      "Sex\n",
      "0.6292134831460674\n",
      "Pclass\n",
      "Fare\n"
     ]
    }
   ],
   "source": [
    "print(dt.fkey)\n",
    "print(dt.fval)\n",
    "print(dt.left.fkey)\n",
    "print(dt.right.fkey)"
   ]
  },
  {
   "cell_type": "code",
   "execution_count": 171,
   "metadata": {},
   "outputs": [],
   "source": [
    "y_pred =[]\n",
    "for ix in range(test_data.shape[0]):\n",
    "    y_pred.append(dt.Predict(test_data.loc[ix]))\n"
   ]
  },
  {
   "cell_type": "code",
   "execution_count": 172,
   "metadata": {},
   "outputs": [
    {
     "data": {
      "text/plain": [
       "['Dead',\n",
       " 'Dead',\n",
       " 'Dead',\n",
       " 'Dead',\n",
       " 'Survive',\n",
       " 'Dead',\n",
       " 'Dead',\n",
       " 'Dead',\n",
       " 'Dead',\n",
       " 'Dead',\n",
       " 'Dead',\n",
       " 'Dead',\n",
       " 'Survive',\n",
       " 'Dead',\n",
       " 'Dead',\n",
       " 'Dead',\n",
       " 'Dead',\n",
       " 'Dead',\n",
       " 'Survive',\n",
       " 'Dead',\n",
       " 'Dead',\n",
       " 'Survive',\n",
       " 'Dead',\n",
       " 'Dead',\n",
       " 'Dead',\n",
       " 'Dead',\n",
       " 'Survive',\n",
       " 'Dead',\n",
       " 'Survive',\n",
       " 'Dead',\n",
       " 'Survive',\n",
       " 'Survive',\n",
       " 'Dead',\n",
       " 'Dead',\n",
       " 'Survive',\n",
       " 'Dead',\n",
       " 'Dead',\n",
       " 'Dead',\n",
       " 'Dead',\n",
       " 'Dead',\n",
       " 'Dead',\n",
       " 'Dead',\n",
       " 'Dead',\n",
       " 'Dead',\n",
       " 'Dead',\n",
       " 'Dead',\n",
       " 'Survive',\n",
       " 'Survive',\n",
       " 'Survive',\n",
       " 'Dead',\n",
       " 'Dead',\n",
       " 'Dead',\n",
       " 'Dead',\n",
       " 'Dead',\n",
       " 'Dead',\n",
       " 'Dead',\n",
       " 'Dead',\n",
       " 'Survive',\n",
       " 'Dead',\n",
       " 'Dead',\n",
       " 'Dead',\n",
       " 'Dead',\n",
       " 'Dead',\n",
       " 'Dead',\n",
       " 'Dead',\n",
       " 'Dead',\n",
       " 'Survive',\n",
       " 'Survive',\n",
       " 'Survive',\n",
       " 'Dead',\n",
       " 'Dead',\n",
       " 'Dead',\n",
       " 'Dead',\n",
       " 'Dead',\n",
       " 'Survive',\n",
       " 'Dead',\n",
       " 'Dead',\n",
       " 'Survive',\n",
       " 'Dead',\n",
       " 'Survive',\n",
       " 'Dead',\n",
       " 'Dead',\n",
       " 'Dead',\n",
       " 'Survive',\n",
       " 'Dead',\n",
       " 'Survive',\n",
       " 'Dead',\n",
       " 'Survive',\n",
       " 'Dead',\n",
       " 'Dead',\n",
       " 'Dead',\n",
       " 'Dead',\n",
       " 'Dead',\n",
       " 'Survive',\n",
       " 'Survive',\n",
       " 'Dead',\n",
       " 'Dead',\n",
       " 'Survive',\n",
       " 'Dead',\n",
       " 'Dead',\n",
       " 'Dead',\n",
       " 'Survive',\n",
       " 'Dead',\n",
       " 'Survive',\n",
       " 'Survive',\n",
       " 'Dead',\n",
       " 'Dead',\n",
       " 'Survive',\n",
       " 'Dead',\n",
       " 'Dead',\n",
       " 'Dead',\n",
       " 'Dead',\n",
       " 'Dead',\n",
       " 'Dead',\n",
       " 'Dead',\n",
       " 'Dead',\n",
       " 'Dead',\n",
       " 'Dead',\n",
       " 'Survive',\n",
       " 'Survive',\n",
       " 'Dead',\n",
       " 'Dead',\n",
       " 'Dead',\n",
       " 'Survive',\n",
       " 'Survive',\n",
       " 'Survive',\n",
       " 'Dead',\n",
       " 'Survive',\n",
       " 'Dead',\n",
       " 'Dead',\n",
       " 'Dead',\n",
       " 'Survive',\n",
       " 'Dead',\n",
       " 'Dead',\n",
       " 'Dead',\n",
       " 'Dead',\n",
       " 'Survive',\n",
       " 'Dead',\n",
       " 'Dead',\n",
       " 'Dead',\n",
       " 'Survive',\n",
       " 'Dead',\n",
       " 'Survive',\n",
       " 'Dead',\n",
       " 'Survive',\n",
       " 'Dead',\n",
       " 'Dead',\n",
       " 'Dead',\n",
       " 'Dead',\n",
       " 'Survive',\n",
       " 'Dead',\n",
       " 'Survive',\n",
       " 'Dead',\n",
       " 'Dead',\n",
       " 'Dead',\n",
       " 'Dead',\n",
       " 'Survive',\n",
       " 'Survive',\n",
       " 'Survive',\n",
       " 'Dead',\n",
       " 'Dead',\n",
       " 'Dead',\n",
       " 'Dead',\n",
       " 'Survive',\n",
       " 'Dead',\n",
       " 'Survive',\n",
       " 'Dead',\n",
       " 'Dead',\n",
       " 'Dead',\n",
       " 'Dead',\n",
       " 'Dead',\n",
       " 'Dead',\n",
       " 'Dead',\n",
       " 'Survive',\n",
       " 'Dead',\n",
       " 'Dead',\n",
       " 'Dead',\n",
       " 'Dead',\n",
       " 'Survive',\n",
       " 'Survive',\n",
       " 'Dead',\n",
       " 'Dead',\n",
       " 'Dead',\n",
       " 'Dead',\n",
       " 'Survive',\n",
       " 'Dead',\n",
       " 'Survive',\n",
       " 'Dead',\n",
       " 'Dead',\n",
       " 'Dead',\n",
       " 'Dead',\n",
       " 'Dead',\n",
       " 'Dead',\n",
       " 'Survive',\n",
       " 'Dead',\n",
       " 'Dead',\n",
       " 'Dead',\n",
       " 'Survive',\n",
       " 'Dead',\n",
       " 'Dead',\n",
       " 'Survive',\n",
       " 'Dead',\n",
       " 'Dead',\n",
       " 'Dead',\n",
       " 'Dead',\n",
       " 'Dead',\n",
       " 'Survive',\n",
       " 'Dead',\n",
       " 'Survive',\n",
       " 'Dead',\n",
       " 'Dead',\n",
       " 'Dead',\n",
       " 'Survive',\n",
       " 'Dead',\n",
       " 'Dead',\n",
       " 'Dead',\n",
       " 'Dead',\n",
       " 'Dead',\n",
       " 'Dead',\n",
       " 'Survive',\n",
       " 'Dead',\n",
       " 'Dead',\n",
       " 'Dead',\n",
       " 'Dead',\n",
       " 'Dead',\n",
       " 'Dead',\n",
       " 'Survive',\n",
       " 'Dead',\n",
       " 'Dead',\n",
       " 'Survive',\n",
       " 'Survive',\n",
       " 'Survive',\n",
       " 'Survive',\n",
       " 'Survive',\n",
       " 'Dead',\n",
       " 'Survive',\n",
       " 'Dead',\n",
       " 'Dead',\n",
       " 'Dead',\n",
       " 'Survive',\n",
       " 'Dead',\n",
       " 'Dead',\n",
       " 'Survive',\n",
       " 'Survive',\n",
       " 'Dead',\n",
       " 'Dead',\n",
       " 'Dead',\n",
       " 'Dead',\n",
       " 'Survive',\n",
       " 'Dead',\n",
       " 'Dead',\n",
       " 'Survive',\n",
       " 'Survive',\n",
       " 'Dead',\n",
       " 'Dead',\n",
       " 'Dead',\n",
       " 'Survive',\n",
       " 'Survive',\n",
       " 'Dead',\n",
       " 'Dead',\n",
       " 'Dead',\n",
       " 'Dead',\n",
       " 'Dead',\n",
       " 'Dead',\n",
       " 'Survive',\n",
       " 'Dead',\n",
       " 'Dead',\n",
       " 'Dead']"
      ]
     },
     "execution_count": 172,
     "metadata": {},
     "output_type": "execute_result"
    }
   ],
   "source": [
    "y_pred "
   ]
  },
  {
   "cell_type": "code",
   "execution_count": 173,
   "metadata": {},
   "outputs": [
    {
     "name": "stdout",
     "output_type": "stream",
     "text": [
      "     Survived\n",
      "0           0\n",
      "1           0\n",
      "2           0\n",
      "3           0\n",
      "4           1\n",
      "5           0\n",
      "6           0\n",
      "7           1\n",
      "8           0\n",
      "9           1\n",
      "10          0\n",
      "11          0\n",
      "12          1\n",
      "13          0\n",
      "14          0\n",
      "15          0\n",
      "16          0\n",
      "17          0\n",
      "18          1\n",
      "19          0\n",
      "20          1\n",
      "21          1\n",
      "22          1\n",
      "23          0\n",
      "24          1\n",
      "25          0\n",
      "26          1\n",
      "27          0\n",
      "28          1\n",
      "29          0\n",
      "..        ...\n",
      "238         0\n",
      "239         1\n",
      "240         0\n",
      "241         0\n",
      "242         1\n",
      "243         1\n",
      "244         0\n",
      "245         0\n",
      "246         1\n",
      "247         0\n",
      "248         1\n",
      "249         0\n",
      "250         0\n",
      "251         1\n",
      "252         1\n",
      "253         0\n",
      "254         0\n",
      "255         0\n",
      "256         1\n",
      "257         1\n",
      "258         0\n",
      "259         0\n",
      "260         0\n",
      "261         0\n",
      "262         0\n",
      "263         0\n",
      "264         1\n",
      "265         0\n",
      "266         1\n",
      "267         0\n",
      "\n",
      "[268 rows x 1 columns]\n"
     ]
    }
   ],
   "source": [
    "y_actual = test_data[output_cols]\n",
    "print(y_actual)"
   ]
  },
  {
   "cell_type": "code",
   "execution_count": 174,
   "metadata": {},
   "outputs": [],
   "source": [
    "le = LabelEncoder()\n",
    "y_pred =le.fit_transform(y_pred)"
   ]
  },
  {
   "cell_type": "code",
   "execution_count": 175,
   "metadata": {},
   "outputs": [
    {
     "name": "stdout",
     "output_type": "stream",
     "text": [
      "[0 0 0 0 1 0 0 0 0 0 0 0 1 0 0 0 0 0 1 0 0 1 0 0 0 0 1 0 1 0 1 1 0 0 1 0 0\n",
      " 0 0 0 0 0 0 0 0 0 1 1 1 0 0 0 0 0 0 0 0 1 0 0 0 0 0 0 0 0 1 1 1 0 0 0 0 0\n",
      " 1 0 0 1 0 1 0 0 0 1 0 1 0 1 0 0 0 0 0 1 1 0 0 1 0 0 0 1 0 1 1 0 0 1 0 0 0\n",
      " 0 0 0 0 0 0 0 1 1 0 0 0 1 1 1 0 1 0 0 0 1 0 0 0 0 1 0 0 0 1 0 1 0 1 0 0 0\n",
      " 0 1 0 1 0 0 0 0 1 1 1 0 0 0 0 1 0 1 0 0 0 0 0 0 0 1 0 0 0 0 1 1 0 0 0 0 1\n",
      " 0 1 0 0 0 0 0 0 1 0 0 0 1 0 0 1 0 0 0 0 0 1 0 1 0 0 0 1 0 0 0 0 0 0 1 0 0\n",
      " 0 0 0 0 1 0 0 1 1 1 1 1 0 1 0 0 0 1 0 0 1 1 0 0 0 0 1 0 0 1 1 0 0 0 1 1 0\n",
      " 0 0 0 0 0 1 0 0 0]\n"
     ]
    }
   ],
   "source": [
    "print(y_pred)"
   ]
  },
  {
   "cell_type": "code",
   "execution_count": 176,
   "metadata": {},
   "outputs": [
    {
     "name": "stdout",
     "output_type": "stream",
     "text": [
      "(268,)\n"
     ]
    }
   ],
   "source": [
    "print(y_pred.shape)"
   ]
  },
  {
   "cell_type": "code",
   "execution_count": 177,
   "metadata": {},
   "outputs": [
    {
     "name": "stdout",
     "output_type": "stream",
     "text": [
      "(268, 1)\n"
     ]
    }
   ],
   "source": [
    "print(y_actual.shape)"
   ]
  },
  {
   "cell_type": "code",
   "execution_count": 178,
   "metadata": {},
   "outputs": [
    {
     "name": "stdout",
     "output_type": "stream",
     "text": [
      "(268, 1)\n"
     ]
    }
   ],
   "source": [
    "y_pred = np.array(y_pred).reshape((-1,1))\n",
    "print(y_pred.shape)"
   ]
  },
  {
   "cell_type": "code",
   "execution_count": 179,
   "metadata": {},
   "outputs": [
    {
     "name": "stdout",
     "output_type": "stream",
     "text": [
      "Survived    0.817164\n",
      "dtype: float64\n"
     ]
    }
   ],
   "source": [
    "acc = np.sum(y_pred==y_actual)/y_pred.shape[0]\n",
    "print(acc)"
   ]
  },
  {
   "cell_type": "markdown",
   "metadata": {},
   "source": [
    "#Decision tree using sklearn"
   ]
  },
  {
   "cell_type": "code",
   "execution_count": 180,
   "metadata": {},
   "outputs": [],
   "source": [
    "from sklearn.tree import DecisionTreeClassifier"
   ]
  },
  {
   "cell_type": "code",
   "execution_count": 188,
   "metadata": {},
   "outputs": [],
   "source": [
    "sk_tree = DecisionTreeClassifier(criterion='entropy',max_depth=5)"
   ]
  },
  {
   "cell_type": "code",
   "execution_count": 189,
   "metadata": {},
   "outputs": [
    {
     "data": {
      "text/plain": [
       "DecisionTreeClassifier(class_weight=None, criterion='entropy', max_depth=5,\n",
       "                       max_features=None, max_leaf_nodes=None,\n",
       "                       min_impurity_decrease=0.0, min_impurity_split=None,\n",
       "                       min_samples_leaf=1, min_samples_split=2,\n",
       "                       min_weight_fraction_leaf=0.0, presort=False,\n",
       "                       random_state=None, splitter='best')"
      ]
     },
     "execution_count": 189,
     "metadata": {},
     "output_type": "execute_result"
    }
   ],
   "source": [
    "sk_tree.fit(train_data[input_cols],train_data[output_cols])"
   ]
  },
  {
   "cell_type": "code",
   "execution_count": 191,
   "metadata": {},
   "outputs": [
    {
     "data": {
      "text/plain": [
       "array([0, 0, 0, 0, 1, 0, 0, 0, 0, 0, 0, 0, 1, 0, 0, 0, 0, 0, 1, 0, 0, 1,\n",
       "       0, 0, 0, 0, 1, 0, 1, 0, 1, 1, 0, 0, 1, 0, 0, 0, 0, 0, 0, 0, 0, 0,\n",
       "       0, 0, 1, 1, 0, 0, 0, 0, 0, 0, 1, 0, 0, 1, 0, 0, 0, 0, 0, 0, 0, 0,\n",
       "       1, 0, 1, 0, 0, 0, 0, 0, 1, 0, 0, 1, 0, 1, 0, 0, 0, 1, 0, 1, 0, 1,\n",
       "       0, 0, 0, 0, 0, 1, 0, 0, 0, 1, 0, 0, 0, 0, 0, 1, 1, 0, 1, 1, 1, 0,\n",
       "       0, 0, 0, 0, 0, 0, 0, 0, 0, 1, 0, 0, 0, 0, 1, 0, 0, 1, 1, 0, 0, 1,\n",
       "       1, 0, 0, 0, 1, 0, 0, 0, 1, 0, 1, 0, 1, 0, 0, 0, 0, 1, 0, 1, 0, 0,\n",
       "       1, 0, 1, 1, 1, 0, 0, 0, 0, 1, 0, 1, 0, 0, 0, 0, 0, 0, 0, 1, 1, 0,\n",
       "       1, 0, 1, 1, 1, 0, 0, 0, 1, 0, 1, 0, 0, 0, 0, 0, 0, 1, 0, 0, 0, 1,\n",
       "       0, 0, 1, 0, 0, 0, 1, 0, 1, 1, 1, 0, 0, 0, 1, 0, 0, 0, 0, 0, 0, 1,\n",
       "       0, 0, 0, 0, 0, 0, 1, 0, 0, 1, 1, 1, 1, 1, 0, 1, 0, 0, 0, 1, 0, 0,\n",
       "       1, 0, 0, 0, 1, 0, 1, 0, 0, 1, 1, 0, 0, 0, 1, 0, 0, 1, 0, 0, 0, 0,\n",
       "       1, 1, 0, 0], dtype=int64)"
      ]
     },
     "execution_count": 191,
     "metadata": {},
     "output_type": "execute_result"
    }
   ],
   "source": [
    "sk_tree.predict(test_data[input_cols])"
   ]
  },
  {
   "cell_type": "code",
   "execution_count": 193,
   "metadata": {},
   "outputs": [
    {
     "data": {
      "text/plain": [
       "0.8283582089552238"
      ]
     },
     "execution_count": 193,
     "metadata": {},
     "output_type": "execute_result"
    }
   ],
   "source": [
    "sk_tree.score(test_data[input_cols],test_data[output_cols])"
   ]
  },
  {
   "cell_type": "markdown",
   "metadata": {},
   "source": [
    "## visualising a decision tree"
   ]
  },
  {
   "cell_type": "code",
   "execution_count": 197,
   "metadata": {},
   "outputs": [
    {
     "name": "stderr",
     "output_type": "stream",
     "text": [
      "c:\\users\\ekta\\appdata\\local\\programs\\python\\python37-32\\lib\\site-packages\\sklearn\\externals\\six.py:31: DeprecationWarning: The module is deprecated in version 0.21 and will be removed in version 0.23 since we've dropped support for Python 2.7. Please rely on the official version of six (https://pypi.org/project/six/).\n",
      "  \"(https://pypi.org/project/six/).\", DeprecationWarning)\n"
     ]
    }
   ],
   "source": [
    "import pydotplus\n",
    "from sklearn.externals.six import StringIO\n",
    "from IPython.display import Image\n",
    "from sklearn.tree import export_graphviz"
   ]
  },
  {
   "cell_type": "code",
   "execution_count": 201,
   "metadata": {},
   "outputs": [],
   "source": [
    "dot_data = StringIO()"
   ]
  },
  {
   "cell_type": "code",
   "execution_count": 202,
   "metadata": {},
   "outputs": [],
   "source": [
    "export_graphviz(sk_tree,out_file = dot_data,filled=True,rounded=True)"
   ]
  },
  {
   "cell_type": "code",
   "execution_count": 212,
   "metadata": {},
   "outputs": [],
   "source": [
    "graph = pydotplus.graph_from_dot_data(dot_data.getvalue())\n",
    "#Image(graph.create_png())"
   ]
  },
  {
   "cell_type": "markdown",
   "metadata": {},
   "source": [
    "## random Forest"
   ]
  },
  {
   "cell_type": "code",
   "execution_count": 213,
   "metadata": {},
   "outputs": [],
   "source": [
    "X_train = train_data[input_cols]\n",
    "Y_train = np.array(train_data[output_cols]).reshape((-1,))\n",
    "X_test  = test_data[input_cols]\n",
    "Y_test = np.array(test_data[output_cols]).reshape((-1,))"
   ]
  },
  {
   "cell_type": "code",
   "execution_count": 214,
   "metadata": {},
   "outputs": [],
   "source": [
    "sk_tree = DecisionTreeClassifier(criterion='entropy')"
   ]
  },
  {
   "cell_type": "code",
   "execution_count": 217,
   "metadata": {},
   "outputs": [
    {
     "data": {
      "text/plain": [
       "0.9823434991974318"
      ]
     },
     "execution_count": 217,
     "metadata": {},
     "output_type": "execute_result"
    }
   ],
   "source": [
    "sk_tree.fit(X_train,Y_train)\n",
    "sk_tree.score(X_train,Y_train)"
   ]
  },
  {
   "cell_type": "code",
   "execution_count": 218,
   "metadata": {},
   "outputs": [
    {
     "data": {
      "text/plain": [
       "0.7761194029850746"
      ]
     },
     "execution_count": 218,
     "metadata": {},
     "output_type": "execute_result"
    }
   ],
   "source": [
    "sk_tree.score(X_test,Y_test)"
   ]
  },
  {
   "cell_type": "code",
   "execution_count": 219,
   "metadata": {},
   "outputs": [],
   "source": [
    "from sklearn.ensemble import RandomForestClassifier "
   ]
  },
  {
   "cell_type": "code",
   "execution_count": 225,
   "metadata": {},
   "outputs": [],
   "source": [
    "rf =  RandomForestClassifier(n_estimators=10,criterion='entropy',max_depth=5)"
   ]
  },
  {
   "cell_type": "code",
   "execution_count": 226,
   "metadata": {},
   "outputs": [
    {
     "data": {
      "text/plain": [
       "RandomForestClassifier(bootstrap=True, class_weight=None, criterion='entropy',\n",
       "                       max_depth=5, max_features='auto', max_leaf_nodes=None,\n",
       "                       min_impurity_decrease=0.0, min_impurity_split=None,\n",
       "                       min_samples_leaf=1, min_samples_split=2,\n",
       "                       min_weight_fraction_leaf=0.0, n_estimators=10,\n",
       "                       n_jobs=None, oob_score=False, random_state=None,\n",
       "                       verbose=0, warm_start=False)"
      ]
     },
     "execution_count": 226,
     "metadata": {},
     "output_type": "execute_result"
    }
   ],
   "source": [
    "rf.fit(X_train,Y_train)"
   ]
  },
  {
   "cell_type": "code",
   "execution_count": 227,
   "metadata": {},
   "outputs": [
    {
     "data": {
      "text/plain": [
       "0.85553772070626"
      ]
     },
     "execution_count": 227,
     "metadata": {},
     "output_type": "execute_result"
    }
   ],
   "source": [
    "rf.score(X_train,Y_train)"
   ]
  },
  {
   "cell_type": "code",
   "execution_count": 228,
   "metadata": {},
   "outputs": [
    {
     "data": {
      "text/plain": [
       "0.8470149253731343"
      ]
     },
     "execution_count": 228,
     "metadata": {},
     "output_type": "execute_result"
    }
   ],
   "source": [
    "rf.score(X_test,Y_test)"
   ]
  },
  {
   "cell_type": "code",
   "execution_count": 249,
   "metadata": {},
   "outputs": [
    {
     "name": "stderr",
     "output_type": "stream",
     "text": [
      "c:\\users\\ekta\\appdata\\local\\programs\\python\\python37-32\\lib\\site-packages\\sklearn\\model_selection\\_split.py:1978: FutureWarning: The default value of cv will change from 3 to 5 in version 0.22. Specify it explicitly to silence this warning.\n",
      "  warnings.warn(CV_WARNING, FutureWarning)\n"
     ]
    }
   ],
   "source": [
    "from sklearn.model_selection import cross_val_score\n",
    "acc = cross_val_score(RandomForestClassifier(n_estimators=10,criterion='entropy',max_depth=5),X_train,Y_train).mean()"
   ]
  },
  {
   "cell_type": "code",
   "execution_count": 250,
   "metadata": {},
   "outputs": [
    {
     "name": "stdout",
     "output_type": "stream",
     "text": [
      "0.7945466369379414\n"
     ]
    }
   ],
   "source": [
    "print(acc)"
   ]
  },
  {
   "cell_type": "code",
   "execution_count": 251,
   "metadata": {},
   "outputs": [
    {
     "name": "stderr",
     "output_type": "stream",
     "text": [
      "c:\\users\\ekta\\appdata\\local\\programs\\python\\python37-32\\lib\\site-packages\\sklearn\\model_selection\\_split.py:1978: FutureWarning: The default value of cv will change from 3 to 5 in version 0.22. Specify it explicitly to silence this warning.\n",
      "  warnings.warn(CV_WARNING, FutureWarning)\n",
      "c:\\users\\ekta\\appdata\\local\\programs\\python\\python37-32\\lib\\site-packages\\sklearn\\model_selection\\_split.py:1978: FutureWarning: The default value of cv will change from 3 to 5 in version 0.22. Specify it explicitly to silence this warning.\n",
      "  warnings.warn(CV_WARNING, FutureWarning)\n",
      "c:\\users\\ekta\\appdata\\local\\programs\\python\\python37-32\\lib\\site-packages\\sklearn\\model_selection\\_split.py:1978: FutureWarning: The default value of cv will change from 3 to 5 in version 0.22. Specify it explicitly to silence this warning.\n",
      "  warnings.warn(CV_WARNING, FutureWarning)\n",
      "c:\\users\\ekta\\appdata\\local\\programs\\python\\python37-32\\lib\\site-packages\\sklearn\\model_selection\\_split.py:1978: FutureWarning: The default value of cv will change from 3 to 5 in version 0.22. Specify it explicitly to silence this warning.\n",
      "  warnings.warn(CV_WARNING, FutureWarning)\n",
      "c:\\users\\ekta\\appdata\\local\\programs\\python\\python37-32\\lib\\site-packages\\sklearn\\model_selection\\_split.py:1978: FutureWarning: The default value of cv will change from 3 to 5 in version 0.22. Specify it explicitly to silence this warning.\n",
      "  warnings.warn(CV_WARNING, FutureWarning)\n",
      "c:\\users\\ekta\\appdata\\local\\programs\\python\\python37-32\\lib\\site-packages\\sklearn\\model_selection\\_split.py:1978: FutureWarning: The default value of cv will change from 3 to 5 in version 0.22. Specify it explicitly to silence this warning.\n",
      "  warnings.warn(CV_WARNING, FutureWarning)\n",
      "c:\\users\\ekta\\appdata\\local\\programs\\python\\python37-32\\lib\\site-packages\\sklearn\\model_selection\\_split.py:1978: FutureWarning: The default value of cv will change from 3 to 5 in version 0.22. Specify it explicitly to silence this warning.\n",
      "  warnings.warn(CV_WARNING, FutureWarning)\n",
      "c:\\users\\ekta\\appdata\\local\\programs\\python\\python37-32\\lib\\site-packages\\sklearn\\model_selection\\_split.py:1978: FutureWarning: The default value of cv will change from 3 to 5 in version 0.22. Specify it explicitly to silence this warning.\n",
      "  warnings.warn(CV_WARNING, FutureWarning)\n",
      "c:\\users\\ekta\\appdata\\local\\programs\\python\\python37-32\\lib\\site-packages\\sklearn\\model_selection\\_split.py:1978: FutureWarning: The default value of cv will change from 3 to 5 in version 0.22. Specify it explicitly to silence this warning.\n",
      "  warnings.warn(CV_WARNING, FutureWarning)\n",
      "c:\\users\\ekta\\appdata\\local\\programs\\python\\python37-32\\lib\\site-packages\\sklearn\\model_selection\\_split.py:1978: FutureWarning: The default value of cv will change from 3 to 5 in version 0.22. Specify it explicitly to silence this warning.\n",
      "  warnings.warn(CV_WARNING, FutureWarning)\n",
      "c:\\users\\ekta\\appdata\\local\\programs\\python\\python37-32\\lib\\site-packages\\sklearn\\model_selection\\_split.py:1978: FutureWarning: The default value of cv will change from 3 to 5 in version 0.22. Specify it explicitly to silence this warning.\n",
      "  warnings.warn(CV_WARNING, FutureWarning)\n",
      "c:\\users\\ekta\\appdata\\local\\programs\\python\\python37-32\\lib\\site-packages\\sklearn\\model_selection\\_split.py:1978: FutureWarning: The default value of cv will change from 3 to 5 in version 0.22. Specify it explicitly to silence this warning.\n",
      "  warnings.warn(CV_WARNING, FutureWarning)\n",
      "c:\\users\\ekta\\appdata\\local\\programs\\python\\python37-32\\lib\\site-packages\\sklearn\\model_selection\\_split.py:1978: FutureWarning: The default value of cv will change from 3 to 5 in version 0.22. Specify it explicitly to silence this warning.\n",
      "  warnings.warn(CV_WARNING, FutureWarning)\n",
      "c:\\users\\ekta\\appdata\\local\\programs\\python\\python37-32\\lib\\site-packages\\sklearn\\model_selection\\_split.py:1978: FutureWarning: The default value of cv will change from 3 to 5 in version 0.22. Specify it explicitly to silence this warning.\n",
      "  warnings.warn(CV_WARNING, FutureWarning)\n",
      "c:\\users\\ekta\\appdata\\local\\programs\\python\\python37-32\\lib\\site-packages\\sklearn\\model_selection\\_split.py:1978: FutureWarning: The default value of cv will change from 3 to 5 in version 0.22. Specify it explicitly to silence this warning.\n",
      "  warnings.warn(CV_WARNING, FutureWarning)\n",
      "c:\\users\\ekta\\appdata\\local\\programs\\python\\python37-32\\lib\\site-packages\\sklearn\\model_selection\\_split.py:1978: FutureWarning: The default value of cv will change from 3 to 5 in version 0.22. Specify it explicitly to silence this warning.\n",
      "  warnings.warn(CV_WARNING, FutureWarning)\n",
      "c:\\users\\ekta\\appdata\\local\\programs\\python\\python37-32\\lib\\site-packages\\sklearn\\model_selection\\_split.py:1978: FutureWarning: The default value of cv will change from 3 to 5 in version 0.22. Specify it explicitly to silence this warning.\n",
      "  warnings.warn(CV_WARNING, FutureWarning)\n",
      "c:\\users\\ekta\\appdata\\local\\programs\\python\\python37-32\\lib\\site-packages\\sklearn\\model_selection\\_split.py:1978: FutureWarning: The default value of cv will change from 3 to 5 in version 0.22. Specify it explicitly to silence this warning.\n",
      "  warnings.warn(CV_WARNING, FutureWarning)\n",
      "c:\\users\\ekta\\appdata\\local\\programs\\python\\python37-32\\lib\\site-packages\\sklearn\\model_selection\\_split.py:1978: FutureWarning: The default value of cv will change from 3 to 5 in version 0.22. Specify it explicitly to silence this warning.\n",
      "  warnings.warn(CV_WARNING, FutureWarning)\n",
      "c:\\users\\ekta\\appdata\\local\\programs\\python\\python37-32\\lib\\site-packages\\sklearn\\model_selection\\_split.py:1978: FutureWarning: The default value of cv will change from 3 to 5 in version 0.22. Specify it explicitly to silence this warning.\n",
      "  warnings.warn(CV_WARNING, FutureWarning)\n",
      "c:\\users\\ekta\\appdata\\local\\programs\\python\\python37-32\\lib\\site-packages\\sklearn\\model_selection\\_split.py:1978: FutureWarning: The default value of cv will change from 3 to 5 in version 0.22. Specify it explicitly to silence this warning.\n",
      "  warnings.warn(CV_WARNING, FutureWarning)\n",
      "c:\\users\\ekta\\appdata\\local\\programs\\python\\python37-32\\lib\\site-packages\\sklearn\\model_selection\\_split.py:1978: FutureWarning: The default value of cv will change from 3 to 5 in version 0.22. Specify it explicitly to silence this warning.\n",
      "  warnings.warn(CV_WARNING, FutureWarning)\n",
      "c:\\users\\ekta\\appdata\\local\\programs\\python\\python37-32\\lib\\site-packages\\sklearn\\model_selection\\_split.py:1978: FutureWarning: The default value of cv will change from 3 to 5 in version 0.22. Specify it explicitly to silence this warning.\n",
      "  warnings.warn(CV_WARNING, FutureWarning)\n",
      "c:\\users\\ekta\\appdata\\local\\programs\\python\\python37-32\\lib\\site-packages\\sklearn\\model_selection\\_split.py:1978: FutureWarning: The default value of cv will change from 3 to 5 in version 0.22. Specify it explicitly to silence this warning.\n",
      "  warnings.warn(CV_WARNING, FutureWarning)\n",
      "c:\\users\\ekta\\appdata\\local\\programs\\python\\python37-32\\lib\\site-packages\\sklearn\\model_selection\\_split.py:1978: FutureWarning: The default value of cv will change from 3 to 5 in version 0.22. Specify it explicitly to silence this warning.\n",
      "  warnings.warn(CV_WARNING, FutureWarning)\n",
      "c:\\users\\ekta\\appdata\\local\\programs\\python\\python37-32\\lib\\site-packages\\sklearn\\model_selection\\_split.py:1978: FutureWarning: The default value of cv will change from 3 to 5 in version 0.22. Specify it explicitly to silence this warning.\n",
      "  warnings.warn(CV_WARNING, FutureWarning)\n",
      "c:\\users\\ekta\\appdata\\local\\programs\\python\\python37-32\\lib\\site-packages\\sklearn\\model_selection\\_split.py:1978: FutureWarning: The default value of cv will change from 3 to 5 in version 0.22. Specify it explicitly to silence this warning.\n",
      "  warnings.warn(CV_WARNING, FutureWarning)\n",
      "c:\\users\\ekta\\appdata\\local\\programs\\python\\python37-32\\lib\\site-packages\\sklearn\\model_selection\\_split.py:1978: FutureWarning: The default value of cv will change from 3 to 5 in version 0.22. Specify it explicitly to silence this warning.\n",
      "  warnings.warn(CV_WARNING, FutureWarning)\n",
      "c:\\users\\ekta\\appdata\\local\\programs\\python\\python37-32\\lib\\site-packages\\sklearn\\model_selection\\_split.py:1978: FutureWarning: The default value of cv will change from 3 to 5 in version 0.22. Specify it explicitly to silence this warning.\n",
      "  warnings.warn(CV_WARNING, FutureWarning)\n"
     ]
    },
    {
     "name": "stderr",
     "output_type": "stream",
     "text": [
      "c:\\users\\ekta\\appdata\\local\\programs\\python\\python37-32\\lib\\site-packages\\sklearn\\model_selection\\_split.py:1978: FutureWarning: The default value of cv will change from 3 to 5 in version 0.22. Specify it explicitly to silence this warning.\n",
      "  warnings.warn(CV_WARNING, FutureWarning)\n",
      "c:\\users\\ekta\\appdata\\local\\programs\\python\\python37-32\\lib\\site-packages\\sklearn\\model_selection\\_split.py:1978: FutureWarning: The default value of cv will change from 3 to 5 in version 0.22. Specify it explicitly to silence this warning.\n",
      "  warnings.warn(CV_WARNING, FutureWarning)\n",
      "c:\\users\\ekta\\appdata\\local\\programs\\python\\python37-32\\lib\\site-packages\\sklearn\\model_selection\\_split.py:1978: FutureWarning: The default value of cv will change from 3 to 5 in version 0.22. Specify it explicitly to silence this warning.\n",
      "  warnings.warn(CV_WARNING, FutureWarning)\n",
      "c:\\users\\ekta\\appdata\\local\\programs\\python\\python37-32\\lib\\site-packages\\sklearn\\model_selection\\_split.py:1978: FutureWarning: The default value of cv will change from 3 to 5 in version 0.22. Specify it explicitly to silence this warning.\n",
      "  warnings.warn(CV_WARNING, FutureWarning)\n",
      "c:\\users\\ekta\\appdata\\local\\programs\\python\\python37-32\\lib\\site-packages\\sklearn\\model_selection\\_split.py:1978: FutureWarning: The default value of cv will change from 3 to 5 in version 0.22. Specify it explicitly to silence this warning.\n",
      "  warnings.warn(CV_WARNING, FutureWarning)\n",
      "c:\\users\\ekta\\appdata\\local\\programs\\python\\python37-32\\lib\\site-packages\\sklearn\\model_selection\\_split.py:1978: FutureWarning: The default value of cv will change from 3 to 5 in version 0.22. Specify it explicitly to silence this warning.\n",
      "  warnings.warn(CV_WARNING, FutureWarning)\n",
      "c:\\users\\ekta\\appdata\\local\\programs\\python\\python37-32\\lib\\site-packages\\sklearn\\model_selection\\_split.py:1978: FutureWarning: The default value of cv will change from 3 to 5 in version 0.22. Specify it explicitly to silence this warning.\n",
      "  warnings.warn(CV_WARNING, FutureWarning)\n",
      "c:\\users\\ekta\\appdata\\local\\programs\\python\\python37-32\\lib\\site-packages\\sklearn\\model_selection\\_split.py:1978: FutureWarning: The default value of cv will change from 3 to 5 in version 0.22. Specify it explicitly to silence this warning.\n",
      "  warnings.warn(CV_WARNING, FutureWarning)\n",
      "c:\\users\\ekta\\appdata\\local\\programs\\python\\python37-32\\lib\\site-packages\\sklearn\\model_selection\\_split.py:1978: FutureWarning: The default value of cv will change from 3 to 5 in version 0.22. Specify it explicitly to silence this warning.\n",
      "  warnings.warn(CV_WARNING, FutureWarning)\n",
      "c:\\users\\ekta\\appdata\\local\\programs\\python\\python37-32\\lib\\site-packages\\sklearn\\model_selection\\_split.py:1978: FutureWarning: The default value of cv will change from 3 to 5 in version 0.22. Specify it explicitly to silence this warning.\n",
      "  warnings.warn(CV_WARNING, FutureWarning)\n",
      "c:\\users\\ekta\\appdata\\local\\programs\\python\\python37-32\\lib\\site-packages\\sklearn\\model_selection\\_split.py:1978: FutureWarning: The default value of cv will change from 3 to 5 in version 0.22. Specify it explicitly to silence this warning.\n",
      "  warnings.warn(CV_WARNING, FutureWarning)\n",
      "c:\\users\\ekta\\appdata\\local\\programs\\python\\python37-32\\lib\\site-packages\\sklearn\\model_selection\\_split.py:1978: FutureWarning: The default value of cv will change from 3 to 5 in version 0.22. Specify it explicitly to silence this warning.\n",
      "  warnings.warn(CV_WARNING, FutureWarning)\n",
      "c:\\users\\ekta\\appdata\\local\\programs\\python\\python37-32\\lib\\site-packages\\sklearn\\model_selection\\_split.py:1978: FutureWarning: The default value of cv will change from 3 to 5 in version 0.22. Specify it explicitly to silence this warning.\n",
      "  warnings.warn(CV_WARNING, FutureWarning)\n",
      "c:\\users\\ekta\\appdata\\local\\programs\\python\\python37-32\\lib\\site-packages\\sklearn\\model_selection\\_split.py:1978: FutureWarning: The default value of cv will change from 3 to 5 in version 0.22. Specify it explicitly to silence this warning.\n",
      "  warnings.warn(CV_WARNING, FutureWarning)\n",
      "c:\\users\\ekta\\appdata\\local\\programs\\python\\python37-32\\lib\\site-packages\\sklearn\\model_selection\\_split.py:1978: FutureWarning: The default value of cv will change from 3 to 5 in version 0.22. Specify it explicitly to silence this warning.\n",
      "  warnings.warn(CV_WARNING, FutureWarning)\n",
      "c:\\users\\ekta\\appdata\\local\\programs\\python\\python37-32\\lib\\site-packages\\sklearn\\model_selection\\_split.py:1978: FutureWarning: The default value of cv will change from 3 to 5 in version 0.22. Specify it explicitly to silence this warning.\n",
      "  warnings.warn(CV_WARNING, FutureWarning)\n",
      "c:\\users\\ekta\\appdata\\local\\programs\\python\\python37-32\\lib\\site-packages\\sklearn\\model_selection\\_split.py:1978: FutureWarning: The default value of cv will change from 3 to 5 in version 0.22. Specify it explicitly to silence this warning.\n",
      "  warnings.warn(CV_WARNING, FutureWarning)\n",
      "c:\\users\\ekta\\appdata\\local\\programs\\python\\python37-32\\lib\\site-packages\\sklearn\\model_selection\\_split.py:1978: FutureWarning: The default value of cv will change from 3 to 5 in version 0.22. Specify it explicitly to silence this warning.\n",
      "  warnings.warn(CV_WARNING, FutureWarning)\n",
      "c:\\users\\ekta\\appdata\\local\\programs\\python\\python37-32\\lib\\site-packages\\sklearn\\model_selection\\_split.py:1978: FutureWarning: The default value of cv will change from 3 to 5 in version 0.22. Specify it explicitly to silence this warning.\n",
      "  warnings.warn(CV_WARNING, FutureWarning)\n",
      "c:\\users\\ekta\\appdata\\local\\programs\\python\\python37-32\\lib\\site-packages\\sklearn\\model_selection\\_split.py:1978: FutureWarning: The default value of cv will change from 3 to 5 in version 0.22. Specify it explicitly to silence this warning.\n",
      "  warnings.warn(CV_WARNING, FutureWarning)\n"
     ]
    }
   ],
   "source": [
    "acc_list = []\n",
    "for i in range(1,50):\n",
    "    acc =cross_val_score(RandomForestClassifier(n_estimators=10,criterion='entropy',max_depth=5),X_train,Y_train).mean()\n",
    "    acc_list.append(acc)"
   ]
  },
  {
   "cell_type": "code",
   "execution_count": 252,
   "metadata": {},
   "outputs": [
    {
     "name": "stdout",
     "output_type": "stream",
     "text": [
      "[0.8057413600891862, 0.7865570419918245, 0.8009259259259259, 0.8121438746438746, 0.7913182831661092, 0.7929208472686734, 0.7865260745695529, 0.7849080267558528, 0.7833209463644245, 0.7768797225318963, 0.786502849002849, 0.7929131054131053, 0.7929285891242412, 0.7897002353524093, 0.8041310541310541, 0.7784590610677569, 0.7880821875387092, 0.7800848507370247, 0.7913182831661092, 0.7912950575994054, 0.7993233618233618, 0.788136380527685, 0.784900284900285, 0.7928976217019694, 0.8073594079028862, 0.8089310045831785, 0.7977440232875015, 0.797689830298526, 0.786502849002849, 0.7704384986993683, 0.8137541806020067, 0.7944924439489657, 0.7865183327139849, 0.7848925430447169, 0.7977362814319336, 0.7993233618233618, 0.800918184070358, 0.7784977703455964, 0.7929363309798093, 0.7961182336182336, 0.7816796729840209, 0.7816796729840209, 0.7993465873900657, 0.7897002353524093, 0.7752694165737645, 0.7784745447788927, 0.7945311532268055, 0.7849080267558528, 0.7945156695156695]\n"
     ]
    }
   ],
   "source": [
    "print(acc_list)"
   ]
  },
  {
   "cell_type": "code",
   "execution_count": 253,
   "metadata": {},
   "outputs": [
    {
     "data": {
      "image/png": "[encoded data removed]",
      "text/plain": [
       "<Figure size 432x288 with 1 Axes>"
      ]
     },
     "metadata": {
      "needs_background": "light"
     },
     "output_type": "display_data"
    }
   ],
   "source": [
    "import matplotlib.pyplot as plt\n",
    "plt.plot(acc_list)\n",
    "plt.show()"
   ]
  },
  {
   "cell_type": "code",
   "execution_count": 254,
   "metadata": {},
   "outputs": [
    {
     "data": {
      "text/plain": [
       "30"
      ]
     },
     "execution_count": 254,
     "metadata": {},
     "output_type": "execute_result"
    }
   ],
   "source": [
    "np.argmax(acc_list)"
   ]
  },
  {
   "cell_type": "code",
   "execution_count": null,
   "metadata": {},
   "outputs": [],
   "source": []
  },
  {
   "cell_type": "code",
   "execution_count": null,
   "metadata": {},
   "outputs": [],
   "source": []
  },
  {
   "cell_type": "code",
   "execution_count": null,
   "metadata": {},
   "outputs": [],
   "source": []
  }
 ],
 "metadata": {
  "kernelspec": {
   "display_name": "Python 3",
   "language": "python",
   "name": "python3"
  },
  "language_info": {
   "codemirror_mode": {
    "name": "ipython",
    "version": 3
   },
   "file_extension": ".py",
   "mimetype": "text/x-python",
   "name": "python",
   "nbconvert_exporter": "python",
   "pygments_lexer": "ipython3",
   "version": "3.7.1"
  }
 },
 "nbformat": 4,
 "nbformat_minor": 2
}
